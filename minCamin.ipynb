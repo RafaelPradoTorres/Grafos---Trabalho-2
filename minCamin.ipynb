{
 "cells": [
  {
   "cell_type": "code",
   "execution_count": 73,
   "metadata": {},
   "outputs": [],
   "source": [
    "from math import inf\n",
    "%run leitura.ipynb"
   ]
  },
  {
   "cell_type": "code",
   "execution_count": 74,
   "metadata": {},
   "outputs": [
    {
     "name": "stdout",
     "output_type": "stream",
     "text": [
      "[['undirected'], ['a', 'b', 9], ['a', 'd', 1], ['a', 'e', 5], ['b', 'c', 2], ['b', 'e', 7], ['b', 'f', 6], ['c', 'f', 4], ['d', 'e', 3], ['e', 'f', 8]]\n",
      "{'a': [['b', 9], ['d', 1], ['e', 5]], 'b': [['a', 9], ['c', 2], ['e', 7], ['f', 6]], 'd': [['a', 1], ['e', 3]], 'e': [['a', 5], ['b', 7], ['d', 3], ['f', 8]], 'c': [['b', 2], ['f', 4]], 'f': [['b', 6], ['c', 4], ['e', 8]]}\n"
     ]
    }
   ],
   "source": [
    "brute_graph = import_graph('grafo.txt')\n",
    "print(brute_graph)\n",
    "adj_list = lista_adj(brute_graph)\n",
    "print(adj_list)"
   ]
  },
  {
   "cell_type": "code",
   "execution_count": 75,
   "metadata": {},
   "outputs": [],
   "source": [
    "# a: [dist, predecessor]\n",
    "def initialize_single_source(grafo, vertice):\n",
    "    camin = dict()\n",
    "    for v in grafo.keys():\n",
    "        camin[v] = [inf, None]\n",
    "    camin[vertice][0] = 0\n",
    "    return camin"
   ]
  },
  {
   "cell_type": "code",
   "execution_count": 83,
   "metadata": {},
   "outputs": [],
   "source": [
    "# a: [dist, predecessor]\n",
    "def relax(vertice1, vertice2, peso):\n",
    "    pass"
   ]
  },
  {
   "cell_type": "code",
   "execution_count": null,
   "metadata": {},
   "outputs": [],
   "source": [
    "def extract_min(dictio = dict):\n",
    "    lista_vertices = list(dictio.keys())\n",
    "    menor = lista_vertices[0]\n",
    "    for v in lista_vertices:\n",
    "        if dictio[v][0] < dictio[menor][0]:\n",
    "            menor = v\n",
    "    dictio.pop(menor)\n",
    "    return menor"
   ]
  },
  {
   "cell_type": "code",
   "execution_count": 78,
   "metadata": {},
   "outputs": [],
   "source": [
    "def Dijkstra(grafo, peso, vertice):\n",
    "    caminho = initialize_single_source(grafo, vertice)\n",
    "    S = None\n",
    "    Q = caminho.copy()\n",
    "        while Q != []:\n",
    "            u = extract_min(Q)\n"
   ]
  },
  {
   "cell_type": "code",
   "execution_count": 79,
   "metadata": {},
   "outputs": [],
   "source": [
    "#Algoritmo de Bellman-Ford"
   ]
  },
  {
   "cell_type": "code",
   "execution_count": 80,
   "metadata": {},
   "outputs": [],
   "source": [
    "def bellman_ford(grafo, peso, vertice):\n",
    "    pass"
   ]
  },
  {
   "cell_type": "code",
   "execution_count": 81,
   "metadata": {},
   "outputs": [],
   "source": [
    "def floyd_warshall(matriz_grafo):\n",
    "    pass"
   ]
  },
  {
   "cell_type": "code",
   "execution_count": 82,
   "metadata": {},
   "outputs": [
    {
     "name": "stdout",
     "output_type": "stream",
     "text": [
      "a\n",
      "b\n",
      "d\n",
      "e\n",
      "c\n",
      "f\n"
     ]
    }
   ],
   "source": [
    "for v in adj_list.keys():\n",
    "    print(v)"
   ]
  }
 ],
 "metadata": {
  "kernelspec": {
   "display_name": "base",
   "language": "python",
   "name": "python3"
  },
  "language_info": {
   "codemirror_mode": {
    "name": "ipython",
    "version": 3
   },
   "file_extension": ".py",
   "mimetype": "text/x-python",
   "name": "python",
   "nbconvert_exporter": "python",
   "pygments_lexer": "ipython3",
   "version": "3.9.13"
  },
  "orig_nbformat": 4
 },
 "nbformat": 4,
 "nbformat_minor": 2
}
