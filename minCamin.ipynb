{
 "cells": [
  {
   "cell_type": "code",
   "execution_count": 225,
   "metadata": {},
   "outputs": [
    {
     "name": "stdout",
     "output_type": "stream",
     "text": [
      "[['directed'], ['p', 'q', 1], ['p', 's', 6], ['p', 't', 7], ['q', 'r', 1], ['q', 's', 4], ['s', 't', 3], ['s', 'u', 2], ['r', 's', 2], ['r', 'u', 1], ['t', 'u', 2]]\n"
     ]
    }
   ],
   "source": [
    "from math import inf\n",
    "%run leitura.ipynb"
   ]
  },
  {
   "cell_type": "code",
   "execution_count": 226,
   "metadata": {},
   "outputs": [
    {
     "name": "stdout",
     "output_type": "stream",
     "text": [
      "[['directed'], ['p', 'q', 1], ['p', 's', 6], ['p', 't', 7], ['q', 'r', 1], ['q', 's', 4], ['s', 't', 3], ['s', 'u', 2], ['r', 's', 2], ['r', 'u', 1], ['t', 'u', 2]]\n",
      "{'p': [['q', 1], ['s', 6], ['t', 7]], 'q': [['r', 1], ['s', 4]], 's': [['t', 3], ['u', 2]], 't': [['u', 2]], 'r': [['s', 2], ['u', 1]], 'u': []}\n"
     ]
    }
   ],
   "source": [
    "brute_graph = import_graph('grafo.txt')\n",
    "print(brute_graph)\n",
    "adj_list = lista_adj(brute_graph)\n",
    "print(adj_list)"
   ]
  },
  {
   "cell_type": "code",
   "execution_count": 227,
   "metadata": {},
   "outputs": [],
   "source": [
    "# a: [dist, predecessor]\n",
    "def initialize_single_source(grafo, vertice):\n",
    "    camin = dict()\n",
    "    for v in grafo.keys():\n",
    "        camin[v] = [inf, None]\n",
    "    camin[vertice][0] = 0\n",
    "    return camin\n",
    "\n",
    "camin = initialize_single_source(adj_list, 'p')"
   ]
  },
  {
   "cell_type": "code",
   "execution_count": 228,
   "metadata": {},
   "outputs": [],
   "source": [
    "# a: [dist, predecessor]\n",
    "def relax(u, v, camin, adj_list):\n",
    "    for i in adj_list[u]:\n",
    "        if i[0] == v:\n",
    "            peso = i[1]\n",
    "    if camin[v][0] > (camin[u][0] + peso):\n",
    "        camin[v][0] = camin[u][0] + peso\n",
    "        camin[v][1] = u"
   ]
  },
  {
   "cell_type": "code",
   "execution_count": 229,
   "metadata": {},
   "outputs": [],
   "source": [
    "def extract_min(dictio = dict):\n",
    "    lista_vertices = list(dictio.keys())\n",
    "    menor = lista_vertices[0]\n",
    "    for v in lista_vertices:\n",
    "        if dictio[v][0] < dictio[menor][0]:\n",
    "            menor = v\n",
    "    dictio.pop(menor)\n",
    "    return menor"
   ]
  },
  {
   "cell_type": "code",
   "execution_count": 230,
   "metadata": {},
   "outputs": [
    {
     "name": "stdout",
     "output_type": "stream",
     "text": [
      "{'p': [0, None], 'q': [1, 'p'], 's': [4, 'r'], 't': [7, 'p'], 'r': [2, 'q'], 'u': [3, 'r']}\n"
     ]
    }
   ],
   "source": [
    "def Dijkstra(grafo, vertice):\n",
    "    caminho = initialize_single_source(grafo, vertice)\n",
    "    S = []\n",
    "    Q = caminho.copy()\n",
    "    while Q != {}:\n",
    "        u = extract_min(Q)\n",
    "        S.append(u)\n",
    "        for v in adj_list[u]:\n",
    "            relax(u, v[0], caminho, adj_list)\n",
    "    print(caminho)\n",
    "\n",
    "Dijkstra(adj_list, 'p')\n"
   ]
  },
  {
   "cell_type": "code",
   "execution_count": 231,
   "metadata": {},
   "outputs": [],
   "source": [
    "#Algoritmo de Bellman-Ford"
   ]
  },
  {
   "cell_type": "code",
   "execution_count": 232,
   "metadata": {},
   "outputs": [
    {
     "name": "stdout",
     "output_type": "stream",
     "text": [
      "{'p': [0, None], 'q': [1, 'p'], 's': [4, 'r'], 't': [7, 'p'], 'r': [2, 'q'], 'u': [3, 'r']}\n"
     ]
    },
    {
     "data": {
      "text/plain": [
       "True"
      ]
     },
     "execution_count": 232,
     "metadata": {},
     "output_type": "execute_result"
    }
   ],
   "source": [
    "def bellman_ford(grafo, vertice):\n",
    "    camin = initialize_single_source(grafo, vertice)\n",
    "    vertices = list(grafo.keys())\n",
    "    for i in range(0, len(vertices)-1):\n",
    "        for u in grafo.keys():\n",
    "            for v in grafo[u]:\n",
    "                relax(u, v[0], camin, grafo)\n",
    "    for u in grafo.keys():\n",
    "        for v in grafo[u]:\n",
    "            peso = v[1]\n",
    "            if camin[v[0]][0] > camin[u][0] + peso:\n",
    "                return False\n",
    "    print(camin)\n",
    "    return True\n",
    "bellman_ford(adj_list, 'p')"
   ]
  },
  {
   "cell_type": "code",
   "execution_count": 233,
   "metadata": {},
   "outputs": [],
   "source": [
    "def floyd_warshall(matriz_grafo):\n",
    "    n = len(matriz_grafo)\n",
    "    "
   ]
  },
  {
   "cell_type": "code",
   "execution_count": 234,
   "metadata": {},
   "outputs": [
    {
     "name": "stdout",
     "output_type": "stream",
     "text": [
      "p\n",
      "q\n",
      "s\n",
      "t\n",
      "r\n",
      "u\n"
     ]
    }
   ],
   "source": [
    "for v in adj_list.keys():\n",
    "    print(v)"
   ]
  }
 ],
 "metadata": {
  "kernelspec": {
   "display_name": "base",
   "language": "python",
   "name": "python3"
  },
  "language_info": {
   "codemirror_mode": {
    "name": "ipython",
    "version": 3
   },
   "file_extension": ".py",
   "mimetype": "text/x-python",
   "name": "python",
   "nbconvert_exporter": "python",
   "pygments_lexer": "ipython3",
   "version": "3.9.13"
  },
  "orig_nbformat": 4,
  "vscode": {
   "interpreter": {
    "hash": "5321d52f472d9d44fe580412eb4884ad344a6c2d5efe9a2fa6eec8e499dc231d"
   }
  }
 },
 "nbformat": 4,
 "nbformat_minor": 2
}
