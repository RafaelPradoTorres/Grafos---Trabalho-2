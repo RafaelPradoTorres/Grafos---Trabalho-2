{
 "cells": [
  {
   "cell_type": "code",
   "execution_count": 440,
   "metadata": {},
   "outputs": [],
   "source": [
    "from math import inf\n",
    "%run leitura.ipynb"
   ]
  },
  {
   "cell_type": "code",
   "execution_count": 441,
   "metadata": {},
   "outputs": [
    {
     "name": "stdout",
     "output_type": "stream",
     "text": [
      "[['undirected'], ['a', 'b', 9], ['a', 'd', 1], ['a', 'e', 5], ['b', 'c', 2], ['b', 'e', 7], ['b', 'f', 6], ['c', 'f', 4], ['d', 'e', 3], ['e', 'f', 8]]\n",
      "{'a': [['b', 9], ['d', 1], ['e', 5]], 'b': [['a', 9], ['c', 2], ['e', 7], ['f', 6]], 'd': [['a', 1], ['e', 3]], 'e': [['a', 5], ['b', 7], ['d', 3], ['f', 8]], 'c': [['b', 2], ['f', 4]], 'f': [['b', 6], ['c', 4], ['e', 8]]}\n"
     ]
    }
   ],
   "source": [
    "brute_graph = import_graph('grafo.txt')\n",
    "print(brute_graph)\n",
    "adj_list = lista_adj(brute_graph)\n",
    "print(adj_list)"
   ]
  },
  {
   "cell_type": "code",
   "execution_count": 442,
   "metadata": {},
   "outputs": [],
   "source": [
    "def extract_min(dictio = dict):\n",
    "    lista_vertices = list(dictio.keys())\n",
    "    menor = lista_vertices[0]\n",
    "    for v in lista_vertices:\n",
    "        if dictio[v][0] < dictio[menor][0]:\n",
    "            menor = v\n",
    "    dictio.pop(menor)\n",
    "    return menor"
   ]
  },
  {
   "cell_type": "code",
   "execution_count": 443,
   "metadata": {},
   "outputs": [],
   "source": [
    "#a: [chave, pai]\n",
    "def Prim(grafo, no):\n",
    "    tree = dict()\n",
    "    for key in grafo:\n",
    "        tree[key] = [inf, None]\n",
    "    tree[no] = [0, None]\n",
    "    Q = tree.copy()\n",
    "    while Q != {}:\n",
    "        u = extract_min(Q)\n",
    "        for v in grafo[u]:\n",
    "            if (v[0] in Q):\n",
    "                if (v[1] < tree[v[0]][0]):\n",
    "                    tree[v[0]][1] = u\n",
    "                    tree[v[0]][0] = v[1]\n",
    "    return tree"
   ]
  },
  {
   "cell_type": "code",
   "execution_count": 444,
   "metadata": {},
   "outputs": [
    {
     "data": {
      "text/plain": [
       "{'a': [0, None],\n",
       " 'b': [7, 'e'],\n",
       " 'd': [1, 'a'],\n",
       " 'e': [3, 'd'],\n",
       " 'c': [2, 'b'],\n",
       " 'f': [4, 'c']}"
      ]
     },
     "execution_count": 444,
     "metadata": {},
     "output_type": "execute_result"
    }
   ],
   "source": [
    "Prim(adj_list, 'a')"
   ]
  },
  {
   "cell_type": "code",
   "execution_count": 445,
   "metadata": {},
   "outputs": [],
   "source": [
    "# a: [pai, rank]\n",
    "def make_set(vertice, grafo):\n",
    "   return [vertice, 0]"
   ]
  },
  {
   "cell_type": "code",
   "execution_count": 446,
   "metadata": {},
   "outputs": [],
   "source": [
    "def link(vertice1, vertice2):\n",
    "    if vertice1[1] > vertice2[1]:\n",
    "        vertice2[0] = vertice1.keys()\n",
    "    else:\n",
    "        vertice1[0] = vertice2.keys()\n",
    "        if vertice1[1] == vertice2[1]:\n",
    "            vertice2[1] = vertice2[1] + 1"
   ]
  },
  {
   "cell_type": "code",
   "execution_count": 447,
   "metadata": {},
   "outputs": [],
   "source": [
    "def find_set(vertice):\n",
    "    if vertice[0] != vertice.key():\n",
    "        vertice[0] = find_set(vertice[0])\n",
    "    return vertice[0]"
   ]
  },
  {
   "cell_type": "code",
   "execution_count": 448,
   "metadata": {},
   "outputs": [],
   "source": [
    "def union(vertice1, vertice2):\n",
    "    link(find_set(vertice1), find_set(vertice2))"
   ]
  },
  {
   "cell_type": "code",
   "execution_count": 449,
   "metadata": {},
   "outputs": [
    {
     "ename": "SyntaxError",
     "evalue": "non-default argument follows default argument (893783058.py, line 1)",
     "output_type": "error",
     "traceback": [
      "\u001b[1;36m  File \u001b[1;32m\"C:\\Users\\rafae\\AppData\\Local\\Temp\\ipykernel_19576\\893783058.py\"\u001b[1;36m, line \u001b[1;32m1\u001b[0m\n\u001b[1;33m    def Kruskal(grafo = dict, peso):\u001b[0m\n\u001b[1;37m                                  ^\u001b[0m\n\u001b[1;31mSyntaxError\u001b[0m\u001b[1;31m:\u001b[0m non-default argument follows default argument\n"
     ]
    }
   ],
   "source": [
    "def Kruskal(grafo = dict, peso):\n",
    "    a = None\n",
    "    for v in grafo.keys():\n",
    "        make_set(v)\n",
    "\n",
    "    for "
   ]
  }
 ],
 "metadata": {
  "kernelspec": {
   "display_name": "base",
   "language": "python",
   "name": "python3"
  },
  "language_info": {
   "codemirror_mode": {
    "name": "ipython",
    "version": 3
   },
   "file_extension": ".py",
   "mimetype": "text/x-python",
   "name": "python",
   "nbconvert_exporter": "python",
   "pygments_lexer": "ipython3",
   "version": "3.9.13"
  },
  "orig_nbformat": 4
 },
 "nbformat": 4,
 "nbformat_minor": 2
}
