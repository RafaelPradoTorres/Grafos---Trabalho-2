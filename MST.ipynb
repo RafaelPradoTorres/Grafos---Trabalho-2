{
 "cells": [
  {
   "cell_type": "code",
   "execution_count": 90,
   "metadata": {},
   "outputs": [],
   "source": [
    "from math import inf\n",
    "%run leitura.ipynb"
   ]
  },
  {
   "cell_type": "code",
   "execution_count": 91,
   "metadata": {},
   "outputs": [
    {
     "name": "stdout",
     "output_type": "stream",
     "text": [
      "[['undirected'], ['a', 'b', 9], ['a', 'd', 1], ['a', 'e', 5], ['b', 'c', 2], ['b', 'e', 7], ['b', 'f', 6], ['c', 'f', 4], ['d', 'e', 3], ['e', 'f', 8]]\n",
      "{'a': [['b', 9], ['d', 1], ['e', 5]], 'b': [['a', 9], ['c', 2], ['e', 7], ['f', 6]], 'd': [['a', 1], ['e', 3]], 'e': [['a', 5], ['b', 7], ['d', 3], ['f', 8]], 'c': [['b', 2], ['f', 4]], 'f': [['b', 6], ['c', 4], ['e', 8]]}\n"
     ]
    }
   ],
   "source": [
    "brute_graph = import_graph('grafo.txt')\n",
    "print(brute_graph)\n",
    "adj_list = lista_adj(brute_graph)\n",
    "print(adj_list)"
   ]
  },
  {
   "cell_type": "code",
   "execution_count": 92,
   "metadata": {},
   "outputs": [],
   "source": [
    "def extract_min(dictio = dict):\n",
    "    lista_vertices = list(dictio.keys())\n",
    "    menor = lista_vertices[0]\n",
    "    for v in lista_vertices:\n",
    "        if dictio[v][0] < dictio[menor][0]:\n",
    "            menor = v\n",
    "    dictio.pop(menor)\n",
    "    return menor"
   ]
  },
  {
   "cell_type": "code",
   "execution_count": 93,
   "metadata": {},
   "outputs": [],
   "source": [
    "#a: [chave, pai]\n",
    "def Prim(grafo, no):\n",
    "    tree = dict()\n",
    "    for key in grafo:\n",
    "        tree[key] = [inf, None]\n",
    "    tree[no] = [0, None]\n",
    "    Q = tree.copy()\n",
    "    while Q != {}:\n",
    "        u = extract_min(Q)\n",
    "        for v in grafo[u]:\n",
    "            if (v[0] in Q):\n",
    "                if (v[1] < tree[v[0]][0]):\n",
    "                    tree[v[0]][1] = u\n",
    "                    tree[v[0]][0] = v[1]\n",
    "    return tree"
   ]
  },
  {
   "cell_type": "code",
   "execution_count": 94,
   "metadata": {},
   "outputs": [
    {
     "data": {
      "text/plain": [
       "{'a': [0, None],\n",
       " 'b': [7, 'e'],\n",
       " 'd': [1, 'a'],\n",
       " 'e': [3, 'd'],\n",
       " 'c': [2, 'b'],\n",
       " 'f': [4, 'c']}"
      ]
     },
     "execution_count": 94,
     "metadata": {},
     "output_type": "execute_result"
    }
   ],
   "source": [
    "Prim(adj_list, 'a')"
   ]
  },
  {
   "cell_type": "code",
   "execution_count": 95,
   "metadata": {},
   "outputs": [],
   "source": [
    "# a: [pai, rank]\n",
    "def make_set(vertice):\n",
    "   return [vertice, 0]"
   ]
  },
  {
   "cell_type": "code",
   "execution_count": 96,
   "metadata": {},
   "outputs": [],
   "source": [
    "def link(vertice1, vertice2, tree):\n",
    "    if tree[vertice1][1] > tree[vertice2][1]:\n",
    "        tree[vertice2][0] = vertice1\n",
    "    else:\n",
    "        tree[vertice1][0] = vertice2\n",
    "        if tree[vertice1][1] == tree[vertice2][1]:\n",
    "            tree[vertice2][1] = tree[vertice2][1] + 1"
   ]
  },
  {
   "cell_type": "code",
   "execution_count": 97,
   "metadata": {},
   "outputs": [],
   "source": [
    "def find_set(vertice, tree):\n",
    "    if tree[vertice][0] != vertice:\n",
    "        tree[vertice][0] = find_set(tree[vertice][0], tree)\n",
    "    return tree[vertice][0]"
   ]
  },
  {
   "cell_type": "code",
   "execution_count": 98,
   "metadata": {},
   "outputs": [],
   "source": [
    "def union(vertice1, vertice2, tree):\n",
    "    link(find_set(vertice1, tree), find_set(vertice2, tree), tree)"
   ]
  },
  {
   "cell_type": "code",
   "execution_count": 99,
   "metadata": {},
   "outputs": [],
   "source": [
    "\n",
    "# Tarefa: tentar Quick sort\n",
    "def insertion_graph(grafo_bruto):\n",
    "    grafo = grafo_bruto[1:]\n",
    "    for i in range(1, len(grafo)):\n",
    "        x = grafo[i]\n",
    "        j = i-1\n",
    "        while j>=0 and x[2]<grafo[j][2]:\n",
    "            grafo[j+1] = grafo[j]\n",
    "            j -= 1\n",
    "        grafo[j+1] = x\n",
    "    return grafo"
   ]
  },
  {
   "cell_type": "code",
   "execution_count": 106,
   "metadata": {},
   "outputs": [
    {
     "name": "stdout",
     "output_type": "stream",
     "text": [
      "['a', 'd', 1]\n",
      "['b', 'c', 2]\n",
      "['d', 'e', 3]\n",
      "['c', 'f', 4]\n",
      "['a', 'e', 5]\n",
      "['b', 'f', 6]\n",
      "['b', 'e', 7]\n",
      "['e', 'f', 8]\n",
      "['a', 'b', 9]\n"
     ]
    },
    {
     "data": {
      "text/plain": [
       "[['a', 'd', 1], ['b', 'c', 2], ['d', 'e', 3], ['c', 'f', 4], ['b', 'e', 7]]"
      ]
     },
     "execution_count": 106,
     "metadata": {},
     "output_type": "execute_result"
    }
   ],
   "source": [
    "def Kruskal(grafo = dict): #+peso\n",
    "    tree = dict()\n",
    "    a = list()\n",
    "    for v in grafo.keys():\n",
    "        tree[v] = make_set(v)\n",
    "    ordenado = insertion_graph(brute_graph)\n",
    "    for aresta in ordenado:\n",
    "        if find_set(aresta[0], tree) != find_set(aresta[1], tree):     \n",
    "            a.append(aresta)\n",
    "            union(aresta[0], aresta[1], tree)\n",
    "    return a\n",
    "Kruskal(adj_list)"
   ]
  }
 ],
 "metadata": {
  "kernelspec": {
   "display_name": "base",
   "language": "python",
   "name": "python3"
  },
  "language_info": {
   "codemirror_mode": {
    "name": "ipython",
    "version": 3
   },
   "file_extension": ".py",
   "mimetype": "text/x-python",
   "name": "python",
   "nbconvert_exporter": "python",
   "pygments_lexer": "ipython3",
   "version": "3.9.13"
  },
  "orig_nbformat": 4,
  "vscode": {
   "interpreter": {
    "hash": "5321d52f472d9d44fe580412eb4884ad344a6c2d5efe9a2fa6eec8e499dc231d"
   }
  }
 },
 "nbformat": 4,
 "nbformat_minor": 2
}
