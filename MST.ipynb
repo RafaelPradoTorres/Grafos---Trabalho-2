{
 "cells": [
  {
   "cell_type": "code",
   "execution_count": 1,
   "metadata": {},
   "outputs": [
    {
     "name": "stdout",
     "output_type": "stream",
     "text": [
      "[['q', 1], ['s', 6], ['t', 7]]\n",
      "p ['q', 1]\n",
      "p ['s', 6]\n",
      "p ['t', 7]\n",
      "q ['p', 1]\n",
      "q ['r', 1]\n",
      "q ['s', 4]\n",
      "r ['q', 1]\n",
      "r ['s', 2]\n",
      "r ['u', 1]\n",
      "s ['p', 6]\n",
      "s ['q', 4]\n",
      "s ['t', 3]\n",
      "s ['u', 2]\n",
      "s ['r', 2]\n",
      "t ['p', 7]\n",
      "t ['s', 3]\n",
      "t ['u', 2]\n",
      "u ['s', 2]\n",
      "u ['r', 1]\n",
      "u ['t', 2]\n",
      "   p  q  r  s  t  u\n",
      "p [0, 0, 0, 0, 0, 0]\n",
      "q [0, 0, 0, 0, 0, 0]\n",
      "r [0, 0, 0, 0, 0, 0]\n",
      "s [0, 0, 0, 0, 0, 0]\n",
      "t [0, 0, 0, 0, 0, 0]\n",
      "u [0, 0, 0, 0, 0, 0]\n"
     ]
    }
   ],
   "source": [
    "from math import inf\n",
    "%run leitura.ipynb"
   ]
  },
  {
   "cell_type": "code",
   "execution_count": 2,
   "metadata": {},
   "outputs": [
    {
     "name": "stdout",
     "output_type": "stream",
     "text": [
      "[['undirected'], ['p', 'q', 1], ['p', 's', 6], ['p', 't', 7], ['q', 'r', 1], ['q', 's', 4], ['s', 't', 3], ['s', 'u', 2], ['r', 's', 2], ['r', 'u', 1], ['t', 'u', 2]]\n",
      "{'p': [['q', 1], ['s', 6], ['t', 7]], 'q': [['p', 1], ['r', 1], ['s', 4]], 's': [['p', 6], ['q', 4], ['t', 3], ['u', 2], ['r', 2]], 't': [['p', 7], ['s', 3], ['u', 2]], 'r': [['q', 1], ['s', 2], ['u', 1]], 'u': [['s', 2], ['r', 1], ['t', 2]]}\n"
     ]
    }
   ],
   "source": [
    "brute_graph = import_graph('grafo.txt')\n",
    "print(brute_graph)\n",
    "adj_list = lista_adj(brute_graph)\n",
    "print(adj_list)"
   ]
  },
  {
   "cell_type": "code",
   "execution_count": 3,
   "metadata": {},
   "outputs": [],
   "source": [
    "def extract_min(dictio = dict):\n",
    "    lista_vertices = list(dictio.keys())\n",
    "    menor = lista_vertices[0]\n",
    "    for v in lista_vertices:\n",
    "        if dictio[v][0] < dictio[menor][0]:\n",
    "            menor = v\n",
    "    dictio.pop(menor)\n",
    "    return menor"
   ]
  },
  {
   "cell_type": "code",
   "execution_count": 4,
   "metadata": {},
   "outputs": [],
   "source": [
    "#a: [chave, pai]\n",
    "def Prim(grafo, no):\n",
    "    tree = dict()\n",
    "    for key in grafo:\n",
    "        tree[key] = [inf, None]\n",
    "    tree[no] = [0, None]\n",
    "    Q = tree.copy()\n",
    "    while Q != {}:\n",
    "        u = extract_min(Q)\n",
    "        for v in grafo[u]:\n",
    "            if (v[0] in Q):\n",
    "                if (v[1] < tree[v[0]][0]):\n",
    "                    tree[v[0]][1] = u\n",
    "                    tree[v[0]][0] = v[1]\n",
    "    return tree"
   ]
  },
  {
   "cell_type": "code",
   "execution_count": 5,
   "metadata": {},
   "outputs": [
    {
     "ename": "KeyError",
     "evalue": "'a'",
     "output_type": "error",
     "traceback": [
      "\u001b[1;31m---------------------------------------------------------------------------\u001b[0m",
      "\u001b[1;31mKeyError\u001b[0m                                  Traceback (most recent call last)",
      "\u001b[1;32m~\\AppData\\Local\\Temp\\ipykernel_20444\\1957698990.py\u001b[0m in \u001b[0;36m<module>\u001b[1;34m\u001b[0m\n\u001b[1;32m----> 1\u001b[1;33m \u001b[0mPrim\u001b[0m\u001b[1;33m(\u001b[0m\u001b[0madj_list\u001b[0m\u001b[1;33m,\u001b[0m \u001b[1;34m'a'\u001b[0m\u001b[1;33m)\u001b[0m\u001b[1;33m\u001b[0m\u001b[1;33m\u001b[0m\u001b[0m\n\u001b[0m",
      "\u001b[1;32m~\\AppData\\Local\\Temp\\ipykernel_20444\\410455334.py\u001b[0m in \u001b[0;36mPrim\u001b[1;34m(grafo, no)\u001b[0m\n\u001b[0;32m      8\u001b[0m     \u001b[1;32mwhile\u001b[0m \u001b[0mQ\u001b[0m \u001b[1;33m!=\u001b[0m \u001b[1;33m{\u001b[0m\u001b[1;33m}\u001b[0m\u001b[1;33m:\u001b[0m\u001b[1;33m\u001b[0m\u001b[1;33m\u001b[0m\u001b[0m\n\u001b[0;32m      9\u001b[0m         \u001b[0mu\u001b[0m \u001b[1;33m=\u001b[0m \u001b[0mextract_min\u001b[0m\u001b[1;33m(\u001b[0m\u001b[0mQ\u001b[0m\u001b[1;33m)\u001b[0m\u001b[1;33m\u001b[0m\u001b[1;33m\u001b[0m\u001b[0m\n\u001b[1;32m---> 10\u001b[1;33m         \u001b[1;32mfor\u001b[0m \u001b[0mv\u001b[0m \u001b[1;32min\u001b[0m \u001b[0mgrafo\u001b[0m\u001b[1;33m[\u001b[0m\u001b[0mu\u001b[0m\u001b[1;33m]\u001b[0m\u001b[1;33m:\u001b[0m\u001b[1;33m\u001b[0m\u001b[1;33m\u001b[0m\u001b[0m\n\u001b[0m\u001b[0;32m     11\u001b[0m             \u001b[1;32mif\u001b[0m \u001b[1;33m(\u001b[0m\u001b[0mv\u001b[0m\u001b[1;33m[\u001b[0m\u001b[1;36m0\u001b[0m\u001b[1;33m]\u001b[0m \u001b[1;32min\u001b[0m \u001b[0mQ\u001b[0m\u001b[1;33m)\u001b[0m\u001b[1;33m:\u001b[0m\u001b[1;33m\u001b[0m\u001b[1;33m\u001b[0m\u001b[0m\n\u001b[0;32m     12\u001b[0m                 \u001b[1;32mif\u001b[0m \u001b[1;33m(\u001b[0m\u001b[0mv\u001b[0m\u001b[1;33m[\u001b[0m\u001b[1;36m1\u001b[0m\u001b[1;33m]\u001b[0m \u001b[1;33m<\u001b[0m \u001b[0mtree\u001b[0m\u001b[1;33m[\u001b[0m\u001b[0mv\u001b[0m\u001b[1;33m[\u001b[0m\u001b[1;36m0\u001b[0m\u001b[1;33m]\u001b[0m\u001b[1;33m]\u001b[0m\u001b[1;33m[\u001b[0m\u001b[1;36m0\u001b[0m\u001b[1;33m]\u001b[0m\u001b[1;33m)\u001b[0m\u001b[1;33m:\u001b[0m\u001b[1;33m\u001b[0m\u001b[1;33m\u001b[0m\u001b[0m\n",
      "\u001b[1;31mKeyError\u001b[0m: 'a'"
     ]
    }
   ],
   "source": [
    "Prim(adj_list, 'a')"
   ]
  },
  {
   "cell_type": "code",
   "execution_count": null,
   "metadata": {},
   "outputs": [],
   "source": [
    "# a: [pai, rank]\n",
    "def make_set(vertice):\n",
    "   return [vertice, 0]"
   ]
  },
  {
   "cell_type": "code",
   "execution_count": null,
   "metadata": {},
   "outputs": [],
   "source": [
    "def link(vertice1, vertice2, tree):\n",
    "    if tree[vertice1][1] > tree[vertice2][1]:\n",
    "        tree[vertice2][0] = vertice1\n",
    "    else:\n",
    "        tree[vertice1][0] = vertice2\n",
    "        if tree[vertice1][1] == tree[vertice2][1]:\n",
    "            tree[vertice2][1] = tree[vertice2][1] + 1"
   ]
  },
  {
   "cell_type": "code",
   "execution_count": null,
   "metadata": {},
   "outputs": [],
   "source": [
    "def find_set(vertice, tree):\n",
    "    if tree[vertice][0] != vertice:\n",
    "        tree[vertice][0] = find_set(tree[vertice][0], tree)\n",
    "    return tree[vertice][0]"
   ]
  },
  {
   "cell_type": "code",
   "execution_count": null,
   "metadata": {},
   "outputs": [],
   "source": [
    "def union(vertice1, vertice2, tree):\n",
    "    link(find_set(vertice1, tree), find_set(vertice2, tree), tree)"
   ]
  },
  {
   "cell_type": "code",
   "execution_count": null,
   "metadata": {},
   "outputs": [],
   "source": [
    "\n",
    "# Tarefa: tentar Quick sort\n",
    "def insertion_graph(grafo_bruto):\n",
    "    grafo = grafo_bruto[1:]\n",
    "    for i in range(1, len(grafo)):\n",
    "        x = grafo[i]\n",
    "        j = i-1\n",
    "        while j>=0 and x[2]<grafo[j][2]:\n",
    "            grafo[j+1] = grafo[j]\n",
    "            j -= 1\n",
    "        grafo[j+1] = x\n",
    "    return grafo"
   ]
  },
  {
   "cell_type": "code",
   "execution_count": null,
   "metadata": {},
   "outputs": [
    {
     "data": {
      "text/plain": [
       "[['a', 'b', 2], ['a', 'e', 3], ['b', 'c', 3], ['e', 'd', 3]]"
      ]
     },
     "execution_count": 194,
     "metadata": {},
     "output_type": "execute_result"
    }
   ],
   "source": [
    "def Kruskal(grafo = dict): #+peso\n",
    "    tree = dict()\n",
    "    a = list()\n",
    "    for v in grafo.keys():\n",
    "        tree[v] = make_set(v)\n",
    "    ordenado = insertion_graph(brute_graph)\n",
    "    for aresta in ordenado:\n",
    "        if find_set(aresta[0], tree) != find_set(aresta[1], tree):     \n",
    "            a.append(aresta)\n",
    "            union(aresta[0], aresta[1], tree)\n",
    "    return a\n",
    "Kruskal(adj_list)"
   ]
  }
 ],
 "metadata": {
  "kernelspec": {
   "display_name": "base",
   "language": "python",
   "name": "python3"
  },
  "language_info": {
   "codemirror_mode": {
    "name": "ipython",
    "version": 3
   },
   "file_extension": ".py",
   "mimetype": "text/x-python",
   "name": "python",
   "nbconvert_exporter": "python",
   "pygments_lexer": "ipython3",
   "version": "3.9.13"
  },
  "orig_nbformat": 4,
  "vscode": {
   "interpreter": {
    "hash": "5321d52f472d9d44fe580412eb4884ad344a6c2d5efe9a2fa6eec8e499dc231d"
   }
  }
 },
 "nbformat": 4,
 "nbformat_minor": 2
}
