{
 "cells": [
  {
   "cell_type": "code",
   "execution_count": 6,
   "metadata": {},
   "outputs": [],
   "source": [
    "import os"
   ]
  },
  {
   "cell_type": "code",
   "execution_count": 7,
   "metadata": {},
   "outputs": [
    {
     "name": "stdout",
     "output_type": "stream",
     "text": [
      "[['directed'], ['p', 'q', 1], ['p', 's', 6], ['p', 't', 7], ['q', 'r', 1], ['q', 's', 4], ['s', 't', 3], ['s', 'u', 2], ['r', 's', 2], ['r', 'u', 1], ['t', 'u', 2]]\n"
     ]
    }
   ],
   "source": [
    "def import_graph(graph_name):\n",
    "    lista = list()\n",
    "    if os.path.isfile(graph_name):\n",
    "        file = open(graph_name, 'r')\n",
    "        for i in file.readlines():\n",
    "            graph = i.strip().split(' ')\n",
    "            lista.append(graph)\n",
    "        file.close()\n",
    "    else:\n",
    "        print('Arquivo não encontrado')\n",
    "    for i in range(1, len(lista)):\n",
    "        lista[i][2] = int(lista[i][2])\n",
    "    return lista\n",
    "print(import_graph('grafo.txt'))"
   ]
  },
  {
   "cell_type": "code",
   "execution_count": 8,
   "metadata": {},
   "outputs": [],
   "source": [
    "#{a: [[b, 9], ...]}\n",
    "def lista_adj(dadinhos):\n",
    "    adj_list = dict()\n",
    "    if dadinhos[0] == ['undirected']:\n",
    "        for i in range(1, len(dadinhos)):\n",
    "            for j in range(0, 2):\n",
    "                adj_list[dadinhos[i][j]] = list()\n",
    "        for i in range(1, len(dadinhos)):\n",
    "            adj_list[dadinhos[i][0]].append([dadinhos[i][1], dadinhos[i][2]])\n",
    "            adj_list[dadinhos[i][1]].append([dadinhos[i][0], dadinhos[i][2]])\n",
    "            \n",
    "    elif dadinhos[0] == ['directed']:\n",
    "        for i in range(1, len(dadinhos)):\n",
    "            for j in range(0, 2):\n",
    "                adj_list[dadinhos[i][j]] = list()\n",
    "        for i in range(1, len(dadinhos)):\n",
    "            adj_list[dadinhos[i][0]].append([dadinhos[i][1], dadinhos[i][2]])\n",
    "\n",
    "    return adj_list"
   ]
  },
  {
   "cell_type": "code",
   "execution_count": 11,
   "metadata": {},
   "outputs": [
    {
     "name": "stdout",
     "output_type": "stream",
     "text": [
      "[[0, 0, 0, 0, 0, 0, 0, 0, 0, 0], [0, 0, 0, 0, 0, 0, 0, 0, 0, 0], [0, 0, 0, 0, 0, 0, 0, 0, 0, 0], [0, 0, 0, 0, 0, 0, 0, 0, 0, 0], [0, 0, 0, 0, 0, 0, 0, 0, 0, 0], [0, 0, 0, 0, 0, 0, 0, 0, 0, 0], [0, 0, 0, 0, 0, 0, 0, 0, 0, 0], [0, 0, 0, 0, 0, 0, 0, 0, 0, 0], [0, 0, 0, 0, 0, 0, 0, 0, 0, 0], [0, 0, 0, 0, 0, 0, 0, 0, 0, 0]]\n"
     ]
    }
   ],
   "source": [
    "def matriz_adj(dadinhos):\n",
    "    matriz = list()\n",
    "    for i in range(1, len(dadinhos)):\n",
    "        matriz.append([])\n",
    "        for j in range(1, len(dadinhos)):\n",
    "            matriz[i-1].append(0)\n",
    "    \n",
    "    print(matriz)\n",
    "matriz_adj(import_graph('grafo.txt'))"
   ]
  }
 ],
 "metadata": {
  "kernelspec": {
   "display_name": "base",
   "language": "python",
   "name": "python3"
  },
  "language_info": {
   "codemirror_mode": {
    "name": "ipython",
    "version": 3
   },
   "file_extension": ".py",
   "mimetype": "text/x-python",
   "name": "python",
   "nbconvert_exporter": "python",
   "pygments_lexer": "ipython3",
   "version": "3.9.13"
  },
  "orig_nbformat": 4,
  "vscode": {
   "interpreter": {
    "hash": "5321d52f472d9d44fe580412eb4884ad344a6c2d5efe9a2fa6eec8e499dc231d"
   }
  }
 },
 "nbformat": 4,
 "nbformat_minor": 2
}
