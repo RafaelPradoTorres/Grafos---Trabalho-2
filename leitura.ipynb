{
 "cells": [
  {
   "cell_type": "code",
   "execution_count": 94,
   "metadata": {},
   "outputs": [],
   "source": [
    "import os"
   ]
  },
  {
   "cell_type": "code",
   "execution_count": 95,
   "metadata": {},
   "outputs": [],
   "source": [
    "def import_graph(graph_name):\n",
    "    lista = list()\n",
    "    if os.path.isfile(graph_name):\n",
    "        file = open(graph_name, 'r')\n",
    "        for i in file.readlines():\n",
    "            graph = i.strip().split(' ')\n",
    "            lista.append(graph)\n",
    "        file.close()\n",
    "    else:\n",
    "        print('Arquivo não encontrado')\n",
    "    for i in range(1, len(lista)):\n",
    "        lista[i][2] = int(lista[i][2])\n",
    "    return lista\n",
    "grafo = import_graph('grafo.txt')"
   ]
  },
  {
   "cell_type": "code",
   "execution_count": 96,
   "metadata": {},
   "outputs": [
    {
     "name": "stdout",
     "output_type": "stream",
     "text": [
      "[['q', 1], ['s', 6], ['t', 7]]\n"
     ]
    }
   ],
   "source": [
    "#{a: [[b, 9], ...]}\n",
    "def lista_adj(dadinhos):\n",
    "    adj_list = dict()\n",
    "    if dadinhos[0] == ['undirected']:\n",
    "        for i in range(1, len(dadinhos)):\n",
    "            for j in range(0, 2):\n",
    "                adj_list[dadinhos[i][j]] = list()\n",
    "        for i in range(1, len(dadinhos)):\n",
    "            adj_list[dadinhos[i][0]].append([dadinhos[i][1], dadinhos[i][2]])\n",
    "            adj_list[dadinhos[i][1]].append([dadinhos[i][0], dadinhos[i][2]])\n",
    "            \n",
    "    elif dadinhos[0] == ['directed']:\n",
    "        for i in range(1, len(dadinhos)):\n",
    "            for j in range(0, 2):\n",
    "                adj_list[dadinhos[i][j]] = list()\n",
    "        for i in range(1, len(dadinhos)):\n",
    "            adj_list[dadinhos[i][0]].append([dadinhos[i][1], dadinhos[i][2]])\n",
    "\n",
    "    return adj_list\n",
    "lista = lista_adj(grafo)\n",
    "print(lista['p'])"
   ]
  },
  {
   "cell_type": "code",
   "execution_count": 99,
   "metadata": {},
   "outputs": [
    {
     "name": "stdout",
     "output_type": "stream",
     "text": [
      "   p  q  r  s  t  u\n",
      "p [0, 1, 0, 6, 7, 0]\n",
      "q [1, 0, 1, 4, 0, 0]\n",
      "r [0, 1, 0, 2, 0, 1]\n",
      "s [6, 4, 2, 0, 3, 2]\n",
      "t [7, 0, 0, 3, 0, 2]\n",
      "u [0, 0, 1, 2, 2, 0]\n"
     ]
    }
   ],
   "source": [
    "def matriz_adj(dadinhos):\n",
    "    #listar elementos para por em ordem alfabetica!!\n",
    "    lista = lista_adj(dadinhos)\n",
    "    elementos = list(lista.keys())\n",
    "    elementos.sort()\n",
    "\n",
    "    matriz = list()\n",
    "    for i in range(0, len(elementos)):\n",
    "        matriz.append([])\n",
    "        for j in elementos:\n",
    "            matriz[i].append(0)\n",
    "\n",
    "    #Deu preguiça e usei a lista de adj mesmo!!!\n",
    "    lista = lista_adj(dadinhos)\n",
    "    for vertice in elementos:\n",
    "        ind_vert1 = elementos.index(vertice)\n",
    "        for aresta in lista[vertice]:\n",
    "            ind_vert2 = elementos.index(aresta[0])\n",
    "            matriz[ind_vert1][ind_vert2] = aresta[1]\n",
    "    #Printar\n",
    "\n",
    "    #precisava, ainda, colocar os caminhos infinitos\n",
    "    print(end=\" \")\n",
    "    for item in elementos:\n",
    "        print(\" \", item, end=\"\")\n",
    "    print(\"\")\n",
    "    i=0\n",
    "    for linha in matriz:\n",
    "        print(elementos[i], end=\" \")\n",
    "        print(linha)\n",
    "        i+=1\n",
    "matriz_adj(import_graph('grafo.txt'))"
   ]
  }
 ],
 "metadata": {
  "kernelspec": {
   "display_name": "base",
   "language": "python",
   "name": "python3"
  },
  "language_info": {
   "codemirror_mode": {
    "name": "ipython",
    "version": 3
   },
   "file_extension": ".py",
   "mimetype": "text/x-python",
   "name": "python",
   "nbconvert_exporter": "python",
   "pygments_lexer": "ipython3",
   "version": "3.9.13"
  },
  "orig_nbformat": 4,
  "vscode": {
   "interpreter": {
    "hash": "5321d52f472d9d44fe580412eb4884ad344a6c2d5efe9a2fa6eec8e499dc231d"
   }
  }
 },
 "nbformat": 4,
 "nbformat_minor": 2
}
