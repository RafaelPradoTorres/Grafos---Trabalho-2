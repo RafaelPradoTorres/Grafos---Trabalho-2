{
 "cells": [
  {
   "cell_type": "code",
   "execution_count": 123,
   "metadata": {},
   "outputs": [],
   "source": [
    "import os"
   ]
  },
  {
   "cell_type": "code",
   "execution_count": 124,
   "metadata": {},
   "outputs": [],
   "source": [
    "def import_graph(graph_name):\n",
    "    lista = list()\n",
    "    if os.path.isfile(graph_name):\n",
    "        file = open(graph_name, 'r')\n",
    "        for i in file.readlines():\n",
    "            graph = i.strip().split(' ')\n",
    "            lista.append(graph)\n",
    "        file.close()\n",
    "    else:\n",
    "        print('Arquivo não encontrado')\n",
    "    for i in range(1, len(lista)):\n",
    "        lista[i][2] = int(lista[i][2])\n",
    "    return lista"
   ]
  },
  {
   "cell_type": "code",
   "execution_count": 125,
   "metadata": {},
   "outputs": [],
   "source": [
    "#{a: [[b, 9], ...]}\n",
    "def lista_adj(dadinhos):\n",
    "    adj_list = dict()\n",
    "    if dadinhos[0] == ['undirected']:\n",
    "        for i in range(1, len(dadinhos)):\n",
    "            for j in range(0, 2):\n",
    "                adj_list[dadinhos[i][j]] = list()\n",
    "        for i in range(1, len(dadinhos)):\n",
    "            adj_list[dadinhos[i][0]].append([dadinhos[i][1], dadinhos[i][2]])\n",
    "            adj_list[dadinhos[i][1]].append([dadinhos[i][0], dadinhos[i][2]])\n",
    "            \n",
    "    elif dadinhos[0] == ['directed']:\n",
    "        pass\n",
    "        #Fazer para direcionado!!!!\n",
    "\n",
    "    return adj_list"
   ]
  }
 ],
 "metadata": {
  "kernelspec": {
   "display_name": "base",
   "language": "python",
   "name": "python3"
  },
  "language_info": {
   "codemirror_mode": {
    "name": "ipython",
    "version": 3
   },
   "file_extension": ".py",
   "mimetype": "text/x-python",
   "name": "python",
   "nbconvert_exporter": "python",
   "pygments_lexer": "ipython3",
   "version": "3.9.13"
  },
  "orig_nbformat": 4
 },
 "nbformat": 4,
 "nbformat_minor": 2
}
